{
 "metadata": {
  "name": "",
  "signature": "sha256:c7dc0ca470248d070d96ec9ca324ea12a3eeb5a370872a572971b46d8b5e6756"
 },
 "nbformat": 3,
 "nbformat_minor": 0,
 "worksheets": [
  {
   "cells": [
    {
     "cell_type": "markdown",
     "metadata": {},
     "source": [
      "Test radial velocity calculation of the Mizar system\n",
      "=====================================================\n",
      "\n",
      "### Todo: Aa and Ab are switched -- check with Enrico\n",
      "\n",
      "This is an attempt to validate [Enrico Gerlachs][1]s radial velocity paper\n",
      "while also learning some IPython.\n",
      "\n",
      "In his paper Enrico Gerlach explaines the computation of a double stars radial velocity from orbital parameters using the example of [Mizar A][2] ($\\zeta$UMa).\n",
      "\n",
      "[IPython][3] is an interactive Python shell that allows a cell-oriented workflow you might know in Maple, Mathematica or Maxima.\n",
      "\n",
      "[1] Enrico Gerlach, Himmelmechanische Beschreibung der Orientierung von Doppelsternsystemen\n",
      "[2] https://en.wikipedia.org/wiki/Mizar_and_Alcor\n",
      "[3] http://ipython.org/"
     ]
    },
    {
     "cell_type": "markdown",
     "metadata": {},
     "source": [
      "First we tell IPython to use inline plots."
     ]
    },
    {
     "cell_type": "code",
     "collapsed": false,
     "input": [
      "%matplotlib inline\n",
      "# %matplotlib\n"
     ],
     "language": "python",
     "metadata": {},
     "outputs": [],
     "prompt_number": 1
    },
    {
     "cell_type": "markdown",
     "metadata": {},
     "source": [
      "Now we add some python imports."
     ]
    },
    {
     "cell_type": "code",
     "collapsed": false,
     "input": [
      "import numpy as np\n",
      "import matplotlib.pyplot as plt\n",
      "import astropy.units as u\n",
      "import astropy.constants as const\n",
      "from astropy.time import Time"
     ],
     "language": "python",
     "metadata": {},
     "outputs": [],
     "prompt_number": 2
    },
    {
     "cell_type": "markdown",
     "metadata": {},
     "source": [
      "### The Orbital parameters of the MizarAa and Ab.\n",
      "$\\Omega$ is not used as we are only interested in the $\\delta z$ component of the system."
     ]
    },
    {
     "cell_type": "code",
     "collapsed": false,
     "input": [
      "H_alpha = 6562.8 * u.AA\n",
      "\n",
      "m1 = 2.43 * u.msolMass\n",
      "m2 = 2.50 * u.msolMass\n",
      "M = m1 + m2\n",
      "e = 0.5354\n",
      "omega1 = 104.3 * u.degree\n",
      "omega2 = omega1 + 180.0 * u.degree\n",
      "Omega = 106.0 *  u.degree # unused\n",
      "i = 60.5 * u.degree\n",
      "P = 20.53835 * u.day\n",
      "T0 = Time(2447636.07, format='jd')\n",
      "V0 = -6.31 * u.km / u.s"
     ],
     "language": "python",
     "metadata": {},
     "outputs": [],
     "prompt_number": 11
    },
    {
     "cell_type": "markdown",
     "metadata": {},
     "source": [
      "Let's derive a1 and a2 from\n",
      "$$a = a_1 + a_2$$\n",
      "$$a_1 M_1 = a_2 M_2$$ and\n",
      "$$M * P^2 = a^3$$\n",
      "Note that the last formula is relative to our solar system, so M needs to be in solar massees, P in years and a in astronomical units.\n"
     ]
    },
    {
     "cell_type": "code",
     "collapsed": false,
     "input": [
      "# From Enricos paper\n",
      "# a1 = 0.127 * u.AU\n",
      "# a2 = 0.123 * u.AU\n",
      "\n",
      "a = np.power(M.to(u.msolMass).value * (P.to(u.year)**2).value, 1./3.) * u.AU\n",
      "a1=(a*m2)/(M)\n",
      "a2 = a - a1\n",
      "\n",
      "a1 = a1.to(u.AU)\n",
      "a2 = a2.to(u.AU)\n",
      "\n",
      "print(\"We get %s and %s\" % (a1, a2))"
     ],
     "language": "python",
     "metadata": {},
     "outputs": [
      {
       "output_type": "stream",
       "stream": "stdout",
       "text": [
        "We get 0.126675398669521 AU and 0.12312848750677435 AU\n"
       ]
      }
     ],
     "prompt_number": 4
    },
    {
     "cell_type": "markdown",
     "metadata": {},
     "source": [
      "Deriving K1 and K2 accordinfg to the paper yields:"
     ]
    },
    {
     "cell_type": "code",
     "collapsed": false,
     "input": [
      "def K(mi, M, a, P, i, e):\n",
      "    return mi/M * 2.0*np.pi*a/P * np.sin(i) / np.sqrt(1.0 - e*e)\n",
      "\n",
      "# From Enricos paper\n",
      "# a1 = 66.98 * u.km / u.s\n",
      "# a2 = 68.91 * u.km / u.s\n",
      "K1 = K(m1, M, a, P, i, e)\n",
      "K2 = K(m2, M, a, P, i, e)\n",
      "\n",
      "print(\"We get %s and %s\" % (K1.to(u.km / u.s), K2.to(u.km / u.s)))"
     ],
     "language": "python",
     "metadata": {},
     "outputs": [
      {
       "output_type": "stream",
       "stream": "stdout",
       "text": [
        "We get 67.20954218124989 km / s and 69.14561952803487 km / s\n"
       ]
      }
     ],
     "prompt_number": 5
    },
    {
     "cell_type": "markdown",
     "metadata": {},
     "source": [
      "The radial velocities $V$ is function of $K$, $\\omega$ and the true anomaly $f$."
     ]
    },
    {
     "cell_type": "code",
     "collapsed": false,
     "input": [
      "def V(K, f, omega):\n",
      "    return -K*(np.cos(f+omega) + e*np.cos(omega))"
     ],
     "language": "python",
     "metadata": {},
     "outputs": [],
     "prompt_number": 22
    },
    {
     "cell_type": "markdown",
     "metadata": {},
     "source": [
      "### The true, mean and eccentric anomalies of the Kepler orbit\n",
      "\n",
      "The true anomaly $f$ used in the calculation above can be derived from the eccentric anomaly $E$.\n",
      "\n",
      "$E$ must be computed iteratively from the mean anomaly $M$ as we cannot invert the Kepler equation $$M = E + e * sin(E)$$\n",
      "\n",
      "Finally $M$ is a linear function of time, the epoche $T0$ and the orbital period $P$.\n",
      "\n",
      "Have a look at Wikipedia: <https://en.wikipedia.org/wiki/True_anomaly>"
     ]
    },
    {
     "cell_type": "code",
     "collapsed": false,
     "input": [
      "def true_anomaly(eccentric_anomaly, e):\n",
      "    y = np.sqrt(1+e) * np.sin(eccentric_anomaly/2)\n",
      "    x = np.sqrt(1-e) * np.cos(eccentric_anomaly/2)\n",
      "    return 2 * np.arctan2(y, x)\n",
      "\n",
      "def eccentric_anomaly(mean_anomaly, e):\n",
      "    \n",
      "    def inverse(M):\n",
      "        eps = 1e-7\n",
      "        E = 0\n",
      "        for i in range(1, 100):\n",
      "            dE = M + e * np.sin(E) - E\n",
      "            # This is the Kepler version.\n",
      "            # Newton is not used because of convergence issues arround pi\n",
      "            # due to modulo 2pi effects\n",
      "            # dE = (M + e * np.sin(E) - E) / (1 - e * np.cos(E))\n",
      "            E += dE\n",
      "            if -eps < dE < +eps:\n",
      "                return E\n",
      "\n",
      "        raise ValueError(\"true_anomaly calculation did not converge for M=%s and e=%s\" % (M, e))\n",
      "    \n",
      "    if isinstance(mean_anomaly, u.Quantity):\n",
      "        mean_anomaly = mean_anomaly.to(u.radian).value\n",
      "    \n",
      "    if isinstance(mean_anomaly, np.ndarray):\n",
      "        return np.array([inverse(mi) for mi in mean_anomaly]) * u.radian\n",
      "    else:\n",
      "        return inverse(mean_anomaly) * u.radian\n",
      "\n",
      "def mean_anomaly(t, T0, P):\n",
      "    return 2 * np.pi * u.radian * (t - T0) / P"
     ],
     "language": "python",
     "metadata": {},
     "outputs": [],
     "prompt_number": 7
    },
    {
     "cell_type": "markdown",
     "metadata": {},
     "source": [
      "#### Lets visualize all above in the period ofter the epoche."
     ]
    },
    {
     "cell_type": "code",
     "collapsed": false,
     "input": [
      "# The following line should be fixed in numpy 1.10 -- says astropy ;-)\n",
      "# t = np.linspace(T0, T0 + P, 200)\n",
      "t = Time(np.linspace(T0.jd, (T0 + P).jd, 2000), format='jd')"
     ],
     "language": "python",
     "metadata": {},
     "outputs": [],
     "prompt_number": 8
    },
    {
     "cell_type": "code",
     "collapsed": false,
     "input": [
      "M = mean_anomaly(t, T0, P)\n",
      "plt.plot(t.jd, M, label='mean')\n",
      "\n",
      "E = eccentric_anomaly(M, e)\n",
      "plt.plot(t.jd, E, label='eccentric')\n",
      "\n",
      "f = true_anomaly(E, e)\n",
      "plt.plot(t.jd, f, label='true')\n",
      "\n",
      "plt.title('The anomalies look like this')\n",
      "plt.ylabel('anomalies')\n",
      "plt.xlabel('Julian date')\n",
      "plt.ylim(0, 2*np.pi)\n",
      "plt.legend()\n",
      "plt.show()"
     ],
     "language": "python",
     "metadata": {},
     "outputs": [
      {
       "metadata": {},
       "output_type": "display_data",
       "png": "[encoded data removed]",
       "text": [
        "<matplotlib.figure.Figure at 0x7fa409e0aa90>"
       ]
      }
     ],
     "prompt_number": 9
    },
    {
     "cell_type": "code",
     "collapsed": false,
     "input": [
      "#It follows an example to display two axis in the same plot\n",
      "\n",
      "fig = plt.figure()\n",
      "plot = fig.add_subplot(111)\n",
      "\n",
      "# we need additional x and y axes\n",
      "addx = plot.twiny()\n",
      "addy = plot.twinx()\n",
      "\n",
      "V1 = (V(K1, f, omega1) + V0).to('km/s')\n",
      "plot.plot(t.jd, V1, label='Mizar Aa')\n",
      "\n",
      "V2 = (V(K2, f, omega2) + V0).to('km/s')\n",
      "plot.plot(t.jd, V2, label='Mizar Ab')\n",
      "plot.plot(t.jd, np.ones(t.size)*V0,\n",
      "            label=r'$V_0$=%.1f %s'%(V0.value, V0.unit))\n",
      "\n",
      "# assure both x-scales match\n",
      "plot.set_xlim((T0-0.1*P).jd, (T0+1.1*P).jd)\n",
      "addx.set_xlim(-0.1, 1.1)\n",
      "\n",
      "# convert radial velocity to red-shift at H_alpha\n",
      "vmin, vmax = plot.get_ylim() * u.km / u.s\n",
      "lmin = (vmin / const.c).to(1) * H_alpha\n",
      "lmax = (vmax / const.c).to(1) * H_alpha\n",
      "\n",
      "addy.set_ylim(lmin.value, lmax.value)\n",
      "\n",
      "\n",
      "labelsize=13\n",
      "plot.set_ylabel('Radial velocity (km/s)', fontsize=labelsize)\n",
      "plot.set_xlabel('Julian date', fontsize=labelsize)\n",
      "addx.set_xlabel('Phase', fontsize=labelsize)\n",
      "addy.set_ylabel(r'$\\delta\\lambda \\| H\\alpha (\\AA)$', fontsize=labelsize)\n",
      "addx.grid(True)\n",
      "plot.legend()\n",
      "plt.show()"
     ],
     "language": "python",
     "metadata": {},
     "outputs": [
      {
       "metadata": {},
       "output_type": "display_data",
       "png": "[encoded data removed]",
       "text": [
        "<matplotlib.figure.Figure at 0x7fa409a06ef0>"
       ]
      }
     ],
     "prompt_number": 80
    }
   ],
   "metadata": {}
  }
 ]
}